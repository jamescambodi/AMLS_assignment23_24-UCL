{
 "cells": [
  {
   "cell_type": "code",
   "execution_count": 5,
   "metadata": {},
   "outputs": [],
   "source": [
    "import medmnist\n",
    "import numpy as np\n",
    "from medmnist import PneumoniaMNIST"
   ]
  },
  {
   "cell_type": "code",
   "execution_count": 6,
   "metadata": {},
   "outputs": [],
   "source": [
    "#download_directory = '/Users/*****/Desktop/AMLS_23_24_SN22241679/Datasets'\n",
    "\n",
    "#dataset1 = PneumoniaMNIST(split=\"train\", root=download_directory,download=True)\n",
    "#dataset2 = PneumoniaMNIST(split=\"val\", root=download_directory,download=True)\n",
    "#dataset3 = PneumoniaMNIST(split=\"test\",root=download_directory,download=True)"
   ]
  },
  {
   "cell_type": "code",
   "execution_count": 7,
   "metadata": {},
   "outputs": [],
   "source": [
    "data=np.load('pneumoniamnist.npz') # load the data"
   ]
  },
  {
   "cell_type": "code",
   "execution_count": 8,
   "metadata": {},
   "outputs": [
    {
     "data": {
      "text/plain": [
       "['train_images',\n",
       " 'val_images',\n",
       " 'test_images',\n",
       " 'train_labels',\n",
       " 'val_labels',\n",
       " 'test_labels']"
      ]
     },
     "execution_count": 8,
     "metadata": {},
     "output_type": "execute_result"
    }
   ],
   "source": [
    "data.files"
   ]
  },
  {
   "cell_type": "code",
   "execution_count": 9,
   "metadata": {},
   "outputs": [],
   "source": [
    "from sklearn.preprocessing import MinMaxScaler\n",
    "from sklearn.model_selection import train_test_split\n",
    "from sklearn.linear_model import LogisticRegression\n",
    "from sklearn.metrics import confusion_matrix, classification_report,accuracy_score\n",
    "import numpy as np\n",
    "from sklearn import datasets\n",
    "import matplotlib.pyplot as plt\n",
    "\n",
    "import tensorflow as tf\n",
    "from keras.models import Sequential\n",
    "from keras.layers import Conv2D, Dense, Flatten, Dropout, MaxPool2D\n",
    "import platform\n",
    "import pickle"
   ]
  },
  {
   "cell_type": "code",
   "execution_count": 10,
   "metadata": {},
   "outputs": [],
   "source": [
    "Xray = data.files #save the data\n",
    "\n",
    "#Put the data in each sets\n",
    "x_train=np.array(data[Xray[0]])\n",
    "x_val=np.array(data[Xray[1]])\n",
    "x_test=np.array(data[Xray[2]])\n",
    "\n",
    "y_train=np.array(data[Xray[3]])\n",
    "y_val=np.array(data[Xray[4]])\n",
    "y_test=np.array(data[Xray[5]])"
   ]
  },
  {
   "cell_type": "code",
   "execution_count": 11,
   "metadata": {},
   "outputs": [
    {
     "name": "stdout",
     "output_type": "stream",
     "text": [
      "(4708, 28, 28)\n",
      "(524, 28, 28)\n",
      "(624, 28, 28)\n"
     ]
    }
   ],
   "source": [
    "print(x_train.shape) #check the shape to determine CNN input shape\n",
    "print(x_val.shape)\n",
    "print(x_test.shape)"
   ]
  },
  {
   "cell_type": "code",
   "execution_count": 12,
   "metadata": {},
   "outputs": [],
   "source": [
    "#Combine the data together\n",
    "x = np.concatenate((x_train, x_val, x_test), axis=0)\n",
    "y = np.concatenate((y_train, y_val, y_test), axis=0)"
   ]
  },
  {
   "cell_type": "code",
   "execution_count": 13,
   "metadata": {},
   "outputs": [],
   "source": [
    "x_train,x_test,y_train,y_test=train_test_split(x,y,test_size=0.15) #split the data with test size 15%"
   ]
  },
  {
   "cell_type": "code",
   "execution_count": 14,
   "metadata": {},
   "outputs": [],
   "source": [
    "x_train_flat = x_train.reshape(x_train.shape[0], -1)\n",
    "x_val_flat = x_val.reshape(y_val.shape[0], -1)\n",
    "x_test_flat = x_test.reshape(x_test.shape[0], -1)\n",
    "\n",
    "y_train_flat = y_train.reshape(y_train.shape[0], -1)\n",
    "y_val_flat = y_val.reshape(y_val.shape[0], -1)\n",
    "y_test_flat = y_test.reshape(x_test.shape[0], -1)"
   ]
  },
  {
   "cell_type": "code",
   "execution_count": 15,
   "metadata": {},
   "outputs": [
    {
     "name": "stdout",
     "output_type": "stream",
     "text": [
      "(4977, 784)\n"
     ]
    }
   ],
   "source": [
    "print(x_train_flat.shape)"
   ]
  },
  {
   "cell_type": "code",
   "execution_count": 16,
   "metadata": {},
   "outputs": [],
   "source": [
    "# Pre-process data\n",
    "scaler = MinMaxScaler() # This estimator scales and translates each feature individually such that it is in the given range on the training set, default between(0,1)\n",
    "x_train_flat = scaler.fit_transform(x_train_flat)\n",
    "x_val_flat = scaler.transform(x_val_flat)\n",
    "x_test_flat = scaler.transform(x_test_flat)"
   ]
  },
  {
   "cell_type": "code",
   "execution_count": 17,
   "metadata": {},
   "outputs": [
    {
     "name": "stderr",
     "output_type": "stream",
     "text": [
      "/Users/jamesso/anaconda3/envs/Labs/lib/python3.9/site-packages/sklearn/utils/validation.py:1111: DataConversionWarning: A column-vector y was passed when a 1d array was expected. Please change the shape of y to (n_samples, ), for example using ravel().\n",
      "  y = column_or_1d(y, warn=True)\n"
     ]
    },
    {
     "name": "stdout",
     "output_type": "stream",
     "text": [
      "Accuracy on test set: 0.9556313993174061\n",
      "              precision    recall  f1-score   support\n",
      "\n",
      "           0       0.93      0.90      0.92       235\n",
      "           1       0.96      0.98      0.97       644\n",
      "\n",
      "    accuracy                           0.96       879\n",
      "   macro avg       0.95      0.94      0.94       879\n",
      "weighted avg       0.96      0.96      0.96       879\n",
      "\n"
     ]
    },
    {
     "name": "stderr",
     "output_type": "stream",
     "text": [
      "/Users/jamesso/anaconda3/envs/Labs/lib/python3.9/site-packages/sklearn/linear_model/_logistic.py:444: ConvergenceWarning: lbfgs failed to converge (status=1):\n",
      "STOP: TOTAL NO. of ITERATIONS REACHED LIMIT.\n",
      "\n",
      "Increase the number of iterations (max_iter) or scale the data as shown in:\n",
      "    https://scikit-learn.org/stable/modules/preprocessing.html\n",
      "Please also refer to the documentation for alternative solver options:\n",
      "    https://scikit-learn.org/stable/modules/linear_model.html#logistic-regression\n",
      "  n_iter_i = _check_optimize_result(\n"
     ]
    }
   ],
   "source": [
    "# sklearn functions implementation\n",
    "def logRegrPredict(x_train, y_train,xtest):\n",
    "    # Build Logistic Regression Model\n",
    "    logreg = LogisticRegression(solver='lbfgs')\n",
    "    # Train the model using the training sets\n",
    "    logreg.fit(x_train, y_train)\n",
    "    y_pred= logreg.predict(xtest)\n",
    "    #print('Accuracy on test set: {:.2f}'.format(logreg.score(x_test, y_test)))\n",
    "    return y_pred\n",
    "\n",
    "y_pred = logRegrPredict(x_train_flat, y_train_flat,x_test_flat)\n",
    "print('Accuracy on test set: '+str(accuracy_score(y_test_flat,y_pred)))\n",
    "print(classification_report(y_test_flat,y_pred))#text report showing the main classification metrics"
   ]
  },
  {
   "cell_type": "code",
   "execution_count": 80,
   "metadata": {},
   "outputs": [
    {
     "name": "stdout",
     "output_type": "stream",
     "text": [
      "Epoch 1/30\n",
      "32/32 [==============================] - 1s 23ms/step - loss: 1.3681 - accuracy: 0.7468 - val_loss: 0.2566 - val_accuracy: 0.8936\n",
      "Epoch 2/30\n",
      "32/32 [==============================] - 1s 21ms/step - loss: 0.2074 - accuracy: 0.9221 - val_loss: 0.3303 - val_accuracy: 0.8655\n",
      "Epoch 3/30\n",
      "32/32 [==============================] - 1s 21ms/step - loss: 0.1867 - accuracy: 0.9272 - val_loss: 0.2018 - val_accuracy: 0.9217\n",
      "Epoch 4/30\n",
      "32/32 [==============================] - 1s 22ms/step - loss: 0.1589 - accuracy: 0.9397 - val_loss: 0.1955 - val_accuracy: 0.9247\n",
      "Epoch 5/30\n",
      "32/32 [==============================] - 1s 22ms/step - loss: 0.1621 - accuracy: 0.9367 - val_loss: 0.1822 - val_accuracy: 0.9307\n",
      "Epoch 6/30\n",
      "32/32 [==============================] - 1s 21ms/step - loss: 0.1538 - accuracy: 0.9412 - val_loss: 0.1875 - val_accuracy: 0.9267\n",
      "Epoch 7/30\n",
      "32/32 [==============================] - 1s 24ms/step - loss: 0.1271 - accuracy: 0.9508 - val_loss: 0.1580 - val_accuracy: 0.9428\n",
      "Epoch 8/30\n",
      "32/32 [==============================] - 1s 22ms/step - loss: 0.1138 - accuracy: 0.9570 - val_loss: 0.1421 - val_accuracy: 0.9498\n",
      "Epoch 9/30\n",
      "32/32 [==============================] - 1s 22ms/step - loss: 0.1093 - accuracy: 0.9588 - val_loss: 0.1370 - val_accuracy: 0.9488\n",
      "Epoch 10/30\n",
      "32/32 [==============================] - 1s 21ms/step - loss: 0.1055 - accuracy: 0.9638 - val_loss: 0.1540 - val_accuracy: 0.9378\n",
      "Epoch 11/30\n",
      "32/32 [==============================] - 1s 21ms/step - loss: 0.1199 - accuracy: 0.9553 - val_loss: 0.1424 - val_accuracy: 0.9448\n",
      "Epoch 12/30\n",
      "32/32 [==============================] - 1s 21ms/step - loss: 0.1034 - accuracy: 0.9616 - val_loss: 0.1375 - val_accuracy: 0.9498\n",
      "Epoch 13/30\n",
      "32/32 [==============================] - 1s 21ms/step - loss: 0.0991 - accuracy: 0.9643 - val_loss: 0.1375 - val_accuracy: 0.9488\n",
      "Epoch 14/30\n",
      "32/32 [==============================] - 1s 21ms/step - loss: 0.0950 - accuracy: 0.9646 - val_loss: 0.1352 - val_accuracy: 0.9518\n",
      "Epoch 15/30\n",
      "32/32 [==============================] - 1s 21ms/step - loss: 0.0990 - accuracy: 0.9613 - val_loss: 0.1505 - val_accuracy: 0.9498\n",
      "Epoch 16/30\n",
      "32/32 [==============================] - 1s 21ms/step - loss: 0.0967 - accuracy: 0.9646 - val_loss: 0.1299 - val_accuracy: 0.9578\n",
      "Epoch 17/30\n",
      "32/32 [==============================] - 1s 21ms/step - loss: 0.0831 - accuracy: 0.9709 - val_loss: 0.1364 - val_accuracy: 0.9538\n",
      "Epoch 18/30\n",
      "32/32 [==============================] - 1s 21ms/step - loss: 0.0785 - accuracy: 0.9729 - val_loss: 0.2126 - val_accuracy: 0.9187\n",
      "Epoch 19/30\n",
      "32/32 [==============================] - 1s 21ms/step - loss: 0.0971 - accuracy: 0.9656 - val_loss: 0.1348 - val_accuracy: 0.9478\n",
      "Epoch 20/30\n",
      "32/32 [==============================] - 1s 21ms/step - loss: 0.0863 - accuracy: 0.9681 - val_loss: 0.1426 - val_accuracy: 0.9498\n",
      "Epoch 21/30\n",
      "32/32 [==============================] - 1s 21ms/step - loss: 0.0699 - accuracy: 0.9764 - val_loss: 0.1516 - val_accuracy: 0.9418\n",
      "Epoch 22/30\n",
      "32/32 [==============================] - 1s 21ms/step - loss: 0.0789 - accuracy: 0.9729 - val_loss: 0.1936 - val_accuracy: 0.9317\n",
      "Epoch 23/30\n",
      "32/32 [==============================] - 1s 21ms/step - loss: 0.0734 - accuracy: 0.9741 - val_loss: 0.1231 - val_accuracy: 0.9588\n",
      "Epoch 24/30\n",
      "32/32 [==============================] - 1s 21ms/step - loss: 0.0708 - accuracy: 0.9761 - val_loss: 0.1194 - val_accuracy: 0.9588\n",
      "Epoch 25/30\n",
      "32/32 [==============================] - 1s 22ms/step - loss: 0.0566 - accuracy: 0.9807 - val_loss: 0.1225 - val_accuracy: 0.9578\n",
      "Epoch 26/30\n",
      "32/32 [==============================] - 1s 21ms/step - loss: 0.0609 - accuracy: 0.9781 - val_loss: 0.1307 - val_accuracy: 0.9568\n",
      "Epoch 27/30\n",
      "32/32 [==============================] - 1s 21ms/step - loss: 0.0708 - accuracy: 0.9751 - val_loss: 0.1354 - val_accuracy: 0.9588\n",
      "Epoch 28/30\n",
      "32/32 [==============================] - 1s 21ms/step - loss: 0.0521 - accuracy: 0.9824 - val_loss: 0.1283 - val_accuracy: 0.9508\n",
      "Epoch 29/30\n",
      "32/32 [==============================] - 1s 21ms/step - loss: 0.0462 - accuracy: 0.9837 - val_loss: 0.1362 - val_accuracy: 0.9508\n",
      "Epoch 30/30\n",
      "32/32 [==============================] - 1s 22ms/step - loss: 0.0426 - accuracy: 0.9877 - val_loss: 0.1388 - val_accuracy: 0.9478\n"
     ]
    }
   ],
   "source": [
    "model=Sequential()\n",
    "\n",
    "# Feature Learning Layers\n",
    "model.add(Conv2D(32,kernel_size=(3,3),activation='relu', input_shape=(28,28,1)))\n",
    "model.add(Conv2D(32,kernel_size=(3,3),activation='relu'))\n",
    "model.add(MaxPool2D(pool_size=(2,2)))\n",
    "\n",
    "model.add(Conv2D(64,kernel_size=(3,3),activation='relu'))\n",
    "model.add(Conv2D(64,kernel_size=(3,3),activation='relu'))\n",
    "model.add(MaxPool2D(pool_size=(2,2)))\n",
    "\n",
    "model.add(Flatten())#Prepare for classification\n",
    "\n",
    "#Classification Layers\n",
    "model.add(Dense(64,activation='relu'))\n",
    "model.add(Dense(32,activation='relu'))\n",
    "model.add(Dense(1,activation='sigmoid'))\n",
    "\n",
    "#Check system os for optimisation in execution\n",
    "if platform.system() == \"Darwin\" and platform.processor() == \"arm\":\n",
    "    opt = tf.keras.optimizers.legacy.Adam(learning_rate=0.0005)\n",
    "else:\n",
    "    opt = tf.keras.optimizers.Adam(learning_rate=0.0005)\n",
    "    \n",
    "model.compile(loss='binary_crossentropy', optimizer=opt, metrics=['accuracy'])\n",
    "\n",
    "history = model.fit(x_train,y_train,batch_size=128, epochs=30, validation_split=0.2)"
   ]
  },
  {
   "cell_type": "code",
   "execution_count": 85,
   "metadata": {},
   "outputs": [
    {
     "data": {
      "image/png": "[encoded data removed]",
      "text/plain": [
       "<Figure size 1200x400 with 2 Axes>"
      ]
     },
     "metadata": {},
     "output_type": "display_data"
    }
   ],
   "source": [
    "plt.figure(figsize=(12, 4))\n",
    "\n",
    "plt.subplot(1, 2, 1)\n",
    "plt.plot(history.history['accuracy'])\n",
    "plt.plot(history.history['val_accuracy'])\n",
    "plt.title('Model Accuracy')\n",
    "plt.ylabel('Accuracy')\n",
    "plt.xlabel('Epoch')\n",
    "plt.legend(['Train', 'Val'], loc='upper left')\n",
    "\n",
    "# Plotting training & validation loss values\n",
    "plt.subplot(1, 2, 2)\n",
    "plt.plot(history.history['loss'])\n",
    "plt.plot(history.history['val_loss'])\n",
    "plt.title('Model Loss')\n",
    "plt.ylabel('Loss')\n",
    "plt.xlabel('Epoch')\n",
    "plt.legend(['Train', 'Val'], loc='upper right')\n",
    "\n",
    "plt.show()"
   ]
  },
  {
   "cell_type": "code",
   "execution_count": 86,
   "metadata": {},
   "outputs": [
    {
     "name": "stdout",
     "output_type": "stream",
     "text": [
      "28/28 [==============================] - 0s 3ms/step\n"
     ]
    }
   ],
   "source": [
    "ypred = model.predict(x_test)"
   ]
  },
  {
   "cell_type": "code",
   "execution_count": 87,
   "metadata": {},
   "outputs": [],
   "source": [
    "Ypred=np.zeros(len(ypred))\n",
    "for i in range(len(ypred)):\n",
    "    if ypred[i]>=0.5:\n",
    "        Ypred[i]=1\n",
    "    else:\n",
    "        Ypred[i]=0"
   ]
  },
  {
   "cell_type": "code",
   "execution_count": 88,
   "metadata": {},
   "outputs": [
    {
     "data": {
      "text/plain": [
       "0.9647326507394767"
      ]
     },
     "execution_count": 88,
     "metadata": {},
     "output_type": "execute_result"
    }
   ],
   "source": [
    "accuracy_score(y_test,Ypred) #accuracy score"
   ]
  },
  {
   "cell_type": "code",
   "execution_count": 89,
   "metadata": {},
   "outputs": [],
   "source": [
    "# save the binary classification model as a pickle file\n",
    "model_pkl_file = \"binary_classifier_model.pkl\"  \n",
    "\n",
    "with open(model_pkl_file, 'wb') as file:  \n",
    "    pickle.dump(model, file)"
   ]
  }
 ],
 "metadata": {
  "kernelspec": {
   "display_name": "Labs",
   "language": "python",
   "name": "python3"
  },
  "language_info": {
   "codemirror_mode": {
    "name": "ipython",
    "version": 3
   },
   "file_extension": ".py",
   "mimetype": "text/x-python",
   "name": "python",
   "nbconvert_exporter": "python",
   "pygments_lexer": "ipython3",
   "version": "3.9.18"
  }
 },
 "nbformat": 4,
 "nbformat_minor": 2
}
