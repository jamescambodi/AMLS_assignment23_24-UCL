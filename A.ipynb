{
 "cells": [
  {
   "cell_type": "code",
   "execution_count": 23,
   "metadata": {},
   "outputs": [],
   "source": [
    "import medmnist\n",
    "import numpy as np\n",
    "from medmnist import PneumoniaMNIST"
   ]
  },
  {
   "cell_type": "code",
   "execution_count": 24,
   "metadata": {},
   "outputs": [],
   "source": [
    "#download_directory = '/Users/*****/Desktop/AMLS_23_24_SN22241679/Datasets'\n",
    "\n",
    "#dataset1 = PneumoniaMNIST(split=\"train\", root=download_directory,download=True)\n",
    "#dataset2 = PneumoniaMNIST(split=\"val\", root=download_directory,download=True)\n",
    "#dataset3 = PneumoniaMNIST(split=\"test\",root=download_directory,download=True)"
   ]
  },
  {
   "cell_type": "code",
   "execution_count": 25,
   "metadata": {},
   "outputs": [],
   "source": [
    "data=np.load('pneumoniamnist.npz') # load the data"
   ]
  },
  {
   "cell_type": "code",
   "execution_count": 26,
   "metadata": {},
   "outputs": [
    {
     "data": {
      "text/plain": [
       "['train_images',\n",
       " 'val_images',\n",
       " 'test_images',\n",
       " 'train_labels',\n",
       " 'val_labels',\n",
       " 'test_labels']"
      ]
     },
     "execution_count": 26,
     "metadata": {},
     "output_type": "execute_result"
    }
   ],
   "source": [
    "data.files"
   ]
  },
  {
   "cell_type": "code",
   "execution_count": 27,
   "metadata": {},
   "outputs": [],
   "source": [
    "from sklearn.preprocessing import MinMaxScaler\n",
    "from sklearn.model_selection import train_test_split\n",
    "from sklearn.linear_model import LogisticRegression\n",
    "from sklearn.metrics import confusion_matrix, classification_report,accuracy_score\n",
    "import numpy as np\n",
    "from sklearn import datasets\n",
    "import matplotlib.pyplot as plt\n",
    "\n",
    "import tensorflow as tf\n",
    "from keras.models import Sequential\n",
    "from keras.layers import Conv2D, Dense, Flatten, Dropout, MaxPool2D\n",
    "import platform\n",
    "import pickle"
   ]
  },
  {
   "cell_type": "code",
   "execution_count": 28,
   "metadata": {},
   "outputs": [],
   "source": [
    "Xray = data.files #save the data\n",
    "\n",
    "#Put the data in each sets\n",
    "x_train=np.array(data[Xray[0]])\n",
    "x_val=np.array(data[Xray[1]])\n",
    "x_test=np.array(data[Xray[2]])\n",
    "\n",
    "y_train=np.array(data[Xray[3]])\n",
    "y_val=np.array(data[Xray[4]])\n",
    "y_test=np.array(data[Xray[5]])"
   ]
  },
  {
   "cell_type": "code",
   "execution_count": 29,
   "metadata": {},
   "outputs": [
    {
     "name": "stdout",
     "output_type": "stream",
     "text": [
      "(4708, 28, 28)\n",
      "(524, 28, 28)\n",
      "(624, 28, 28)\n"
     ]
    }
   ],
   "source": [
    "print(x_train.shape) #check the shape to determine CNN input shape\n",
    "print(x_val.shape)\n",
    "print(x_test.shape)"
   ]
  },
  {
   "cell_type": "code",
   "execution_count": 30,
   "metadata": {},
   "outputs": [],
   "source": [
    "#Combine the data together\n",
    "x = np.concatenate((x_train, x_val, x_test), axis=0)\n",
    "y = np.concatenate((y_train, y_val, y_test), axis=0)"
   ]
  },
  {
   "cell_type": "code",
   "execution_count": 31,
   "metadata": {},
   "outputs": [],
   "source": [
    "x_train,x_test,y_train,y_test=train_test_split(x,y,test_size=0.15) #split the data with test size 15%"
   ]
  },
  {
   "cell_type": "code",
   "execution_count": 32,
   "metadata": {},
   "outputs": [],
   "source": [
    "x_train_flat = x_train.reshape(x_train.shape[0], -1)\n",
    "x_val_flat = x_val.reshape(y_val.shape[0], -1)\n",
    "x_test_flat = x_test.reshape(x_test.shape[0], -1)\n",
    "\n",
    "y_train_flat = y_train.reshape(y_train.shape[0], -1)\n",
    "y_val_flat = y_val.reshape(y_val.shape[0], -1)\n",
    "y_test_flat = y_test.reshape(x_test.shape[0], -1)"
   ]
  },
  {
   "cell_type": "code",
   "execution_count": 33,
   "metadata": {},
   "outputs": [
    {
     "name": "stdout",
     "output_type": "stream",
     "text": [
      "(4977, 784)\n"
     ]
    }
   ],
   "source": [
    "print(x_train_flat.shape)"
   ]
  },
  {
   "cell_type": "code",
   "execution_count": 34,
   "metadata": {},
   "outputs": [],
   "source": [
    "# Pre-process data\n",
    "scaler = MinMaxScaler() # This estimator scales and translates each feature individually such that it is in the given range on the training set, default between(0,1)\n",
    "x_train_flat = scaler.fit_transform(x_train_flat)\n",
    "x_val_flat = scaler.transform(x_val_flat)\n",
    "x_test_flat = scaler.transform(x_test_flat)"
   ]
  },
  {
   "cell_type": "code",
   "execution_count": 35,
   "metadata": {},
   "outputs": [
    {
     "name": "stderr",
     "output_type": "stream",
     "text": [
      "/Users/jamesso/anaconda3/envs/Labs/lib/python3.9/site-packages/sklearn/utils/validation.py:1111: DataConversionWarning: A column-vector y was passed when a 1d array was expected. Please change the shape of y to (n_samples, ), for example using ravel().\n",
      "  y = column_or_1d(y, warn=True)\n"
     ]
    },
    {
     "name": "stdout",
     "output_type": "stream",
     "text": [
      "Accuracy on test set: 0.9510807736063709\n",
      "              precision    recall  f1-score   support\n",
      "\n",
      "           0       0.91      0.91      0.91       239\n",
      "           1       0.97      0.97      0.97       640\n",
      "\n",
      "    accuracy                           0.95       879\n",
      "   macro avg       0.94      0.94      0.94       879\n",
      "weighted avg       0.95      0.95      0.95       879\n",
      "\n"
     ]
    },
    {
     "name": "stderr",
     "output_type": "stream",
     "text": [
      "/Users/jamesso/anaconda3/envs/Labs/lib/python3.9/site-packages/sklearn/linear_model/_logistic.py:444: ConvergenceWarning: lbfgs failed to converge (status=1):\n",
      "STOP: TOTAL NO. of ITERATIONS REACHED LIMIT.\n",
      "\n",
      "Increase the number of iterations (max_iter) or scale the data as shown in:\n",
      "    https://scikit-learn.org/stable/modules/preprocessing.html\n",
      "Please also refer to the documentation for alternative solver options:\n",
      "    https://scikit-learn.org/stable/modules/linear_model.html#logistic-regression\n",
      "  n_iter_i = _check_optimize_result(\n"
     ]
    }
   ],
   "source": [
    "# sklearn functions implementation\n",
    "def logRegrPredict(x_train, y_train,xtest):\n",
    "    # Build Logistic Regression Model\n",
    "    logreg = LogisticRegression(solver='lbfgs')\n",
    "    # Train the model using the training sets\n",
    "    logreg.fit(x_train, y_train)\n",
    "    y_pred= logreg.predict(xtest)\n",
    "    #print('Accuracy on test set: {:.2f}'.format(logreg.score(x_test, y_test)))\n",
    "    return y_pred\n",
    "\n",
    "y_pred = logRegrPredict(x_train_flat, y_train_flat,x_test_flat)\n",
    "print('Accuracy on test set: '+str(accuracy_score(y_test_flat,y_pred)))\n",
    "print(classification_report(y_test_flat,y_pred))#text report showing the main classification metrics"
   ]
  },
  {
   "cell_type": "code",
   "execution_count": 36,
   "metadata": {},
   "outputs": [
    {
     "name": "stdout",
     "output_type": "stream",
     "text": [
      "Epoch 1/30\n",
      "32/32 [==============================] - 1s 21ms/step - loss: 0.7847 - accuracy: 0.7669 - val_loss: 0.2463 - val_accuracy: 0.8916\n",
      "Epoch 2/30\n",
      "32/32 [==============================] - 1s 19ms/step - loss: 0.2171 - accuracy: 0.9151 - val_loss: 0.1876 - val_accuracy: 0.9197\n",
      "Epoch 3/30\n",
      "32/32 [==============================] - 1s 20ms/step - loss: 0.2064 - accuracy: 0.9159 - val_loss: 0.2129 - val_accuracy: 0.9247\n",
      "Epoch 4/30\n",
      "32/32 [==============================] - 1s 20ms/step - loss: 0.1805 - accuracy: 0.9297 - val_loss: 0.2019 - val_accuracy: 0.9167\n",
      "Epoch 5/30\n",
      "32/32 [==============================] - 1s 20ms/step - loss: 0.1605 - accuracy: 0.9405 - val_loss: 0.2015 - val_accuracy: 0.9247\n",
      "Epoch 6/30\n",
      "32/32 [==============================] - 1s 19ms/step - loss: 0.1632 - accuracy: 0.9395 - val_loss: 0.1775 - val_accuracy: 0.9347\n",
      "Epoch 7/30\n",
      "32/32 [==============================] - 1s 21ms/step - loss: 0.1447 - accuracy: 0.9457 - val_loss: 0.1540 - val_accuracy: 0.9468\n",
      "Epoch 8/30\n",
      "32/32 [==============================] - 1s 20ms/step - loss: 0.1624 - accuracy: 0.9385 - val_loss: 0.1842 - val_accuracy: 0.9287\n",
      "Epoch 9/30\n",
      "32/32 [==============================] - 1s 20ms/step - loss: 0.1341 - accuracy: 0.9510 - val_loss: 0.1473 - val_accuracy: 0.9458\n",
      "Epoch 10/30\n",
      "32/32 [==============================] - 1s 21ms/step - loss: 0.1235 - accuracy: 0.9568 - val_loss: 0.1380 - val_accuracy: 0.9458\n",
      "Epoch 11/30\n",
      "32/32 [==============================] - 1s 20ms/step - loss: 0.1157 - accuracy: 0.9596 - val_loss: 0.1370 - val_accuracy: 0.9488\n",
      "Epoch 12/30\n",
      "32/32 [==============================] - 1s 22ms/step - loss: 0.1081 - accuracy: 0.9613 - val_loss: 0.1763 - val_accuracy: 0.9297\n",
      "Epoch 13/30\n",
      "32/32 [==============================] - 1s 21ms/step - loss: 0.1222 - accuracy: 0.9550 - val_loss: 0.1349 - val_accuracy: 0.9518\n",
      "Epoch 14/30\n",
      "32/32 [==============================] - 1s 21ms/step - loss: 0.1144 - accuracy: 0.9586 - val_loss: 0.1286 - val_accuracy: 0.9498\n",
      "Epoch 15/30\n",
      "32/32 [==============================] - 1s 22ms/step - loss: 0.1012 - accuracy: 0.9648 - val_loss: 0.1451 - val_accuracy: 0.9478\n",
      "Epoch 16/30\n",
      "32/32 [==============================] - 1s 20ms/step - loss: 0.0922 - accuracy: 0.9691 - val_loss: 0.1312 - val_accuracy: 0.9538\n",
      "Epoch 17/30\n",
      "32/32 [==============================] - 1s 20ms/step - loss: 0.0846 - accuracy: 0.9706 - val_loss: 0.1343 - val_accuracy: 0.9528\n",
      "Epoch 18/30\n",
      "32/32 [==============================] - 1s 20ms/step - loss: 0.0828 - accuracy: 0.9714 - val_loss: 0.1771 - val_accuracy: 0.9297\n",
      "Epoch 19/30\n",
      "32/32 [==============================] - 1s 20ms/step - loss: 0.0860 - accuracy: 0.9699 - val_loss: 0.1318 - val_accuracy: 0.9538\n",
      "Epoch 20/30\n",
      "32/32 [==============================] - 1s 20ms/step - loss: 0.0676 - accuracy: 0.9786 - val_loss: 0.1142 - val_accuracy: 0.9639\n",
      "Epoch 21/30\n",
      "32/32 [==============================] - 1s 20ms/step - loss: 0.0731 - accuracy: 0.9751 - val_loss: 0.1161 - val_accuracy: 0.9649\n",
      "Epoch 22/30\n",
      "32/32 [==============================] - 1s 20ms/step - loss: 0.0719 - accuracy: 0.9764 - val_loss: 0.1896 - val_accuracy: 0.9317\n",
      "Epoch 23/30\n",
      "32/32 [==============================] - 1s 21ms/step - loss: 0.0971 - accuracy: 0.9636 - val_loss: 0.1331 - val_accuracy: 0.9538\n",
      "Epoch 24/30\n",
      "32/32 [==============================] - 1s 20ms/step - loss: 0.0736 - accuracy: 0.9734 - val_loss: 0.1182 - val_accuracy: 0.9608\n",
      "Epoch 25/30\n",
      "32/32 [==============================] - 1s 21ms/step - loss: 0.0569 - accuracy: 0.9832 - val_loss: 0.1178 - val_accuracy: 0.9588\n",
      "Epoch 26/30\n",
      "32/32 [==============================] - 1s 20ms/step - loss: 0.0686 - accuracy: 0.9769 - val_loss: 0.1256 - val_accuracy: 0.9538\n",
      "Epoch 27/30\n",
      "32/32 [==============================] - 1s 20ms/step - loss: 0.0604 - accuracy: 0.9799 - val_loss: 0.1264 - val_accuracy: 0.9548\n",
      "Epoch 28/30\n",
      "32/32 [==============================] - 1s 21ms/step - loss: 0.0525 - accuracy: 0.9842 - val_loss: 0.1279 - val_accuracy: 0.9478\n",
      "Epoch 29/30\n",
      "32/32 [==============================] - 1s 21ms/step - loss: 0.0392 - accuracy: 0.9900 - val_loss: 0.1247 - val_accuracy: 0.9548\n",
      "Epoch 30/30\n",
      "32/32 [==============================] - 1s 20ms/step - loss: 0.0383 - accuracy: 0.9889 - val_loss: 0.2675 - val_accuracy: 0.9177\n"
     ]
    }
   ],
   "source": [
    "model=Sequential()\n",
    "\n",
    "# Feature Learning Layers\n",
    "model.add(Conv2D(32,kernel_size=(3,3),activation='relu', input_shape=(28,28,1)))\n",
    "model.add(Conv2D(32,kernel_size=(3,3),activation='relu'))\n",
    "model.add(MaxPool2D(pool_size=(2,2)))\n",
    "\n",
    "model.add(Conv2D(64,kernel_size=(3,3),activation='relu'))\n",
    "model.add(Conv2D(64,kernel_size=(3,3),activation='relu'))\n",
    "model.add(MaxPool2D(pool_size=(2,2)))\n",
    "\n",
    "model.add(Flatten())#Prepare for classification\n",
    "\n",
    "#Classification Layers\n",
    "model.add(Dense(64,activation='relu'))\n",
    "model.add(Dense(32,activation='relu'))\n",
    "model.add(Dense(1,activation='sigmoid'))\n",
    "\n",
    "#Check system os for optimisation in execution\n",
    "if platform.system() == \"Darwin\" and platform.processor() == \"arm\":\n",
    "    opt = tf.keras.optimizers.legacy.Adam(learning_rate=0.0005)\n",
    "else:\n",
    "    opt = tf.keras.optimizers.Adam(learning_rate=0.0005)\n",
    "    \n",
    "model.compile(loss='binary_crossentropy', optimizer=opt, metrics=['accuracy'])\n",
    "\n",
    "history = model.fit(x_train,y_train,batch_size=128, epochs=30, validation_split=0.2)"
   ]
  },
  {
   "cell_type": "code",
   "execution_count": 37,
   "metadata": {},
   "outputs": [
    {
     "data": {
      "image/png": "[encoded data removed]",
      "text/plain": [
       "<Figure size 1200x400 with 2 Axes>"
      ]
     },
     "metadata": {},
     "output_type": "display_data"
    }
   ],
   "source": [
    "plt.figure(figsize=(12, 4))\n",
    "\n",
    "plt.subplot(1, 2, 1)\n",
    "plt.plot(history.history['accuracy'])\n",
    "plt.plot(history.history['val_accuracy'])\n",
    "plt.title('Model Accuracy')\n",
    "plt.ylabel('Accuracy')\n",
    "plt.xlabel('Epoch')\n",
    "plt.legend(['Train', 'Val'], loc='upper left')\n",
    "\n",
    "# Plotting training & validation loss values\n",
    "plt.subplot(1, 2, 2)\n",
    "plt.plot(history.history['loss'])\n",
    "plt.plot(history.history['val_loss'])\n",
    "plt.title('Model Loss')\n",
    "plt.ylabel('Loss')\n",
    "plt.xlabel('Epoch')\n",
    "plt.legend(['Train', 'Val'], loc='upper right')\n",
    "\n",
    "plt.show()"
   ]
  },
  {
   "cell_type": "code",
   "execution_count": 38,
   "metadata": {},
   "outputs": [
    {
     "name": "stdout",
     "output_type": "stream",
     "text": [
      "28/28 [==============================] - 0s 3ms/step\n"
     ]
    }
   ],
   "source": [
    "ypred = model.predict(x_test)"
   ]
  },
  {
   "cell_type": "code",
   "execution_count": 39,
   "metadata": {},
   "outputs": [],
   "source": [
    "Ypred=np.zeros(len(ypred))\n",
    "for i in range(len(ypred)):\n",
    "    if ypred[i]>=0.5:\n",
    "        Ypred[i]=1\n",
    "    else:\n",
    "        Ypred[i]=0"
   ]
  },
  {
   "cell_type": "code",
   "execution_count": 40,
   "metadata": {},
   "outputs": [
    {
     "data": {
      "text/plain": [
       "0.9522184300341296"
      ]
     },
     "execution_count": 40,
     "metadata": {},
     "output_type": "execute_result"
    }
   ],
   "source": [
    "accuracy_score(y_test,Ypred) #accuracy score"
   ]
  },
  {
   "cell_type": "code",
   "execution_count": 41,
   "metadata": {},
   "outputs": [],
   "source": [
    "# save the binary classification model as a pickle file\n",
    "model_pkl_file = \"binary_classifier_model.pkl\"  \n",
    "\n",
    "with open(model_pkl_file, 'wb') as file:  \n",
    "    pickle.dump(model, file)"
   ]
  }
 ],
 "metadata": {
  "kernelspec": {
   "display_name": "Labs",
   "language": "python",
   "name": "python3"
  },
  "language_info": {
   "codemirror_mode": {
    "name": "ipython",
    "version": 3
   },
   "file_extension": ".py",
   "mimetype": "text/x-python",
   "name": "python",
   "nbconvert_exporter": "python",
   "pygments_lexer": "ipython3",
   "version": "3.9.18"
  }
 },
 "nbformat": 4,
 "nbformat_minor": 2
}
